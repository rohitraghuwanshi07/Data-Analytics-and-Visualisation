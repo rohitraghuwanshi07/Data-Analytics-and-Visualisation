{
  "nbformat": 4,
  "nbformat_minor": 0,
  "metadata": {
    "colab": {
      "provenance": []
    },
    "kernelspec": {
      "name": "python3",
      "display_name": "Python 3"
    },
    "language_info": {
      "name": "python"
    }
  },
  "cells": [
    {
      "cell_type": "code",
      "execution_count": 2,
      "metadata": {
        "colab": {
          "base_uri": "https://localhost:8080/"
        },
        "id": "YgVSEa5QJLCj",
        "outputId": "dc255d70-87fc-4601-e1b9-a745f1cb3e29"
      },
      "outputs": [
        {
          "output_type": "stream",
          "name": "stdout",
          "text": [
            "Enter request (a,b,c): (1,W,0)\n",
            "Cache states: C1=M, C2=I, C3=I, C4=I\n"
          ]
        }
      ],
      "source": [
        "class CacheController:\n",
        "    def __init__(self):\n",
        "        # Initialize all caches to INVALID state\n",
        "        self.caches = ['I', 'I', 'I', 'I']  # C1, C2, C3, C4\n",
        "\n",
        "    def process_request(self, a, b, c):\n",
        "        \"\"\"\n",
        "        Process a cache request according to MESI protocol.\n",
        "        a: processor number (1-4)\n",
        "        b: operation type (R for read, W for write)\n",
        "        c: continue flag (0 to terminate, 1 to continue)\n",
        "        \"\"\"\n",
        "        processor = a - 1  # Convert to 0-based index\n",
        "        operation = b\n",
        "\n",
        "        # Apply MESI protocol rules\n",
        "        if operation == 'R':\n",
        "            self._handle_read(processor)\n",
        "        elif operation == 'W':\n",
        "            self._handle_write(processor)\n",
        "\n",
        "        # Return current cache states and continue flag\n",
        "        return self.caches, c == 1\n",
        "\n",
        "    def _handle_read(self, processor):\n",
        "        \"\"\"Handle a read operation from the specified processor.\"\"\"\n",
        "        # Check current state of the processor's cache\n",
        "        current_state = self.caches[processor]\n",
        "\n",
        "        if current_state == 'I':\n",
        "            # If any other cache has the line in M or E state, it changes to S\n",
        "            # and the requesting cache gets S\n",
        "            if 'M' in self.caches or 'E' in self.caches:\n",
        "                for i in range(4):\n",
        "                    if self.caches[i] == 'M' or self.caches[i] == 'E':\n",
        "                        self.caches[i] = 'S'\n",
        "                self.caches[processor] = 'S'\n",
        "            # If any other cache has the line in S state, requesting cache gets S\n",
        "            elif 'S' in self.caches:\n",
        "                self.caches[processor] = 'S'\n",
        "            # If no other cache has the line, requesting cache gets E\n",
        "            else:\n",
        "                self.caches[processor] = 'E'\n",
        "        # If the state is already M, E, or S, it remains unchanged\n",
        "\n",
        "    def _handle_write(self, processor):\n",
        "        \"\"\"Handle a write operation from the specified processor.\"\"\"\n",
        "        # For a write operation, all other caches must invalidate their copies\n",
        "        for i in range(4):\n",
        "            if i != processor:\n",
        "                self.caches[i] = 'I'\n",
        "\n",
        "        # The writing cache gets the M state\n",
        "        self.caches[processor] = 'M'\n",
        "\n",
        "def main():\n",
        "    controller = CacheController()\n",
        "    continue_processing = True\n",
        "\n",
        "    while continue_processing:\n",
        "        # Get input from the user\n",
        "        try:\n",
        "            a, b, c = input(\"Enter request (a,b,c): \").replace('(', '').replace(')', '').split(',')\n",
        "            a = int(a)\n",
        "            c = int(c)\n",
        "\n",
        "            if a < 1 or a > 4 or b not in ['R', 'W'] or c not in [0, 1]:\n",
        "                print(\"Invalid input. Please use format (a,b,c) where:\")\n",
        "                print(\"a is 1-4, b is R or W, c is 0 or 1\")\n",
        "                continue\n",
        "\n",
        "            # Process the request\n",
        "            cache_states, continue_processing = controller.process_request(a, b, c)\n",
        "\n",
        "            # Display the result\n",
        "            print(f\"Cache states: C1={cache_states[0]}, C2={cache_states[1]}, C3={cache_states[2]}, C4={cache_states[3]}\")\n",
        "\n",
        "        except ValueError:\n",
        "            print(\"Invalid input format. Please use format (a,b,c)\")\n",
        "        except Exception as e:\n",
        "            print(f\"Error: {e}\")\n",
        "\n",
        "if __name__ == \"__main__\":\n",
        "    main()"
      ]
    },
    {
      "cell_type": "code",
      "source": [],
      "metadata": {
        "id": "e6AAsaJmJTdo"
      },
      "execution_count": null,
      "outputs": []
    }
  ]
}